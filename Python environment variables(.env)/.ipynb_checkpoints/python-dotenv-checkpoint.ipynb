{
 "cells": [
  {
   "cell_type": "markdown",
   "metadata": {},
   "source": [
    "## Objectives\n",
    "\n",
    "* Describe python environment variables\n",
    "* Demonstrate how to use python environment variables."
   ]
  },
  {
   "cell_type": "markdown",
   "metadata": {},
   "source": [
    "![DataSecurity](datasecurity.jpg)\n",
    "\n",
    "Image by [Pete Linforth](https://pixabay.com/users/thedigitalartist-202249/?utm_source=link-attribution&amp;utm_medium=referral&amp;utm_campaign=image&amp;utm_content=3400657) from [Pixabay](https://pixabay.com//?utm_source=link-attribution&amp;utm_medium=referral&amp;utm_campaign=image&amp;utm_content=3400657)"
   ]
  },
  {
   "cell_type": "markdown",
   "metadata": {},
   "source": [
    "## What is a .env file?\n",
    "\n",
    "We create programs and applications to be deployed and share code with fellow programmers using version control software like Git. Its very **crucial** not to share **user credentials** such as API keys within your code.\n",
    "\n",
    "```python-dotenv``` allows us to work with these crucial credentials without exposing them.\n",
    "\n",
    "Find out more about python-dotenv [here](https://pypi.org/project/python-dotenv/)."
   ]
  },
  {
   "cell_type": "markdown",
   "metadata": {},
   "source": [
    "## Without Using python-dotenv Package\n",
    "\n",
    "Without the python-dotenv we risk exposing our credentials like demostrated below.\n",
    "\n",
    "*This method is very unsafe!!*"
   ]
  },
  {
   "cell_type": "code",
   "execution_count": 2,
   "metadata": {},
   "outputs": [],
   "source": [
    "# we are exposing our credentials\n",
    "access_token = \"moringa123\"\n",
    "access_key = \"moringa$school$limited\""
   ]
  },
  {
   "cell_type": "markdown",
   "metadata": {},
   "source": [
    "## Using python-dotenv Package\n",
    "\n",
    "*This method is much safer!* 😊 "
   ]
  },
  {
   "cell_type": "markdown",
   "metadata": {},
   "source": [
    "### Importing Packages"
   ]
  },
  {
   "cell_type": "code",
   "execution_count": 3,
   "metadata": {},
   "outputs": [],
   "source": [
    "# os for a portable way of using operating system dependent functionality\n",
    "# such as creating and removing a directory, fetching its content, changing and identifying current directory ect\n",
    "import os\n",
    "# python-dotenv\n",
    "from dotenv import load_dotenv"
   ]
  },
  {
   "cell_type": "code",
   "execution_count": 7,
   "metadata": {},
   "outputs": [],
   "source": [
    "# using environment variables\n",
    "path_to_env_file = '.env'\n",
    "load_dotenv(path_to_env_file)\n",
    "\n",
    "MORINGA_EMAIL = os.getenv('MORINGA_EMAIL')\n",
    "MORINGA_PASSWORD = os.getenv('MORINGA_PASSWORD')"
   ]
  },
  {
   "cell_type": "markdown",
   "metadata": {},
   "source": [
    "We have successfully managed to declare a variables ```MORINGA_EMAIL``` and ```MORINGA_PASSWORD``` which contain crucial credentials without exposing them."
   ]
  }
 ],
 "metadata": {
  "kernelspec": {
   "display_name": "my_ds_environment",
   "language": "python",
   "name": "python3"
  },
  "language_info": {
   "codemirror_mode": {
    "name": "ipython",
    "version": 3
   },
   "file_extension": ".py",
   "mimetype": "text/x-python",
   "name": "python",
   "nbconvert_exporter": "python",
   "pygments_lexer": "ipython3",
   "version": "3.12.7"
  },
  "orig_nbformat": 4
 },
 "nbformat": 4,
 "nbformat_minor": 2
}
